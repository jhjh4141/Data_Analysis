{
 "cells": [
  {
   "cell_type": "markdown",
   "metadata": {
    "colab_type": "text",
    "id": "2pP702X-KJVZ"
   },
   "source": [
    "# Data Programming - Numpy"
   ]
  },
  {
   "cell_type": "markdown",
   "metadata": {
    "colab_type": "text",
    "id": "XSE1lDTuKJVc"
   },
   "source": [
    "## Similar Movies Exercise  \n",
    "### Introduction and Intuitions\n",
    "Suppose that we have a large data set of movie ratings from such as Watcha or Netflix. Is there any way to recommend __'similar'__ movies for customers? For example, let's compare two cases below:\n",
    "\n",
    "__CASE 1:__ 4 user rated both `Star Wars` and `Lord of Rings` like below:\n",
    "> USER ID 220 rated both _Star Wars_ and _Lord of Rings_ 5.  \n",
    "> USER ID 193 rated _Star Wars_ as 4 and _Lord of Rings_ as 5.  \n",
    "> USER ID 431 rated both _Star Wars_ and _Lord of Rings_ 1.  \n",
    "> USER ID 940 rated _Star Wars_ as 3 and _Lord of Rings_ as 2.   \n",
    "\n",
    "We can say that `Star Wars` and `Lord of Rings` are __similar__ movies. Why? Because majority of people rated similar score to both movies. Let's say __similarity of two movies are close to 1__.\n",
    "\n",
    "__CASE 2:__ 3 user rated both `Home Alone` and `Bohemian Rapsody` like below:\n",
    "> USER ID 199 rated _Home Alone_ as 4 but _Bohemian Rapsody_ as 1.  \n",
    "> USER ID 320 rated _Home Alone_ as 2 and _Bohemian Rapsody_ as 5.   \n",
    "> USER ID 878 rated _Home Alone_ as 5 and _Bohemian Rapsody_ as 1. \n",
    "\n",
    "We can say that `Home Alone` and `Bohemian Rapsody` are __not similar__ to each other. Why? Because majority of people rated totally different score to each movies. Let's say __similarity of two movies are close to 0__.\n",
    "\n",
    "If you watched the `Star Wars` and liked it, it's highly likely to enjoy `Lord of Rings` too. If you watched the `Home Alone` and didn't enjoy it, recommendation algorithm may recommend you `Bohemian Rapsody`, because it's totally different to the former one. If you want to know similar movies of `Star Wars`, algorithm can search for you __movies that have similarity close to 1__. "
   ]
  },
  {
   "cell_type": "markdown",
   "metadata": {
    "colab_type": "text",
    "id": "ydfqRjr-KJVd"
   },
   "source": [
    "There is a movie rating file in __'../data/ml-100k/u.data'__.   \n",
    "Each line of the file contists of 4 numbers and '\\t' charactors between the numbers.  \n",
    ">`First Number` is __User ID__ who rated the movie.  \n",
    ">`Second Number` is Movie ID which is rated.  \n",
    ">`Third Number` is the rating of the movie.  \n",
    ">`Forth Number` is time stamp which we don't need to care in this exercise.  \n",
    "\n",
    "Write your code that load the rating data file and make a __integer list__ of (User ID, Movie ID, rating) triples.  Name the list __`ratingList`__."
   ]
  },
  {
   "cell_type": "code",
   "execution_count": 1,
   "metadata": {
    "colab": {},
    "colab_type": "code",
    "id": "vtshEtAHKJVf"
   },
   "outputs": [],
   "source": [
    "import pandas as pd\n",
    "\n",
    "df = pd.read_csv('u.data', sep='\\t', names=['User ID', 'Movie ID', 'rating'], usecols=[0, 1, 2])\n",
    "ratingList = df.values.tolist()"
   ]
  },
  {
   "cell_type": "markdown",
   "metadata": {
    "colab_type": "text",
    "id": "l8eaAzrUKJVk"
   },
   "source": [
    "If your code is well designed, run below cell. The output should be [32, 294, 3]."
   ]
  },
  {
   "cell_type": "code",
   "execution_count": 2,
   "metadata": {
    "colab": {},
    "colab_type": "code",
    "id": "fpRDLNVeKJVl"
   },
   "outputs": [
    {
     "name": "stdout",
     "output_type": "stream",
     "text": [
      "[32, 294, 3]\n"
     ]
    }
   ],
   "source": [
    "print(ratingList[100])"
   ]
  },
  {
   "cell_type": "markdown",
   "metadata": {
    "colab_type": "text",
    "id": "ek1afqQDKJVp"
   },
   "source": [
    "By here, 'ratingList' is a 2D list which is size of [Number of Ratings][3].  \n",
    "Convert this list to Numpy 2D Array and named it as \"ratings\" that each row constists of (UserID, MovieID, Rating) and check the shape of numpy function __shape__."
   ]
  },
  {
   "cell_type": "code",
   "execution_count": 3,
   "metadata": {
    "colab": {},
    "colab_type": "code",
    "id": "1cpvDOarKJVq"
   },
   "outputs": [],
   "source": [
    "import numpy as np\n",
    "\n",
    "ratings = np.array(ratingList)"
   ]
  },
  {
   "cell_type": "markdown",
   "metadata": {
    "colab_type": "text",
    "id": "995D4_RPKJVt"
   },
   "source": [
    "By using 'ratings' array, construct __`userRating`__ that userRating[i][j] represents rating of movie ID j by user ID i. If user i didn't rate movie j, then make the rate value as 0."
   ]
  },
  {
   "cell_type": "code",
   "execution_count": 4,
   "metadata": {
    "colab": {},
    "colab_type": "code",
    "id": "4ic6CCaIKJVt"
   },
   "outputs": [
    {
     "data": {
      "text/plain": [
       "array([[0., 0., 0., ..., 0., 0., 0.],\n",
       "       [0., 5., 3., ..., 0., 0., 0.],\n",
       "       [0., 4., 0., ..., 0., 0., 0.],\n",
       "       ...,\n",
       "       [0., 5., 0., ..., 0., 0., 0.],\n",
       "       [0., 0., 0., ..., 0., 0., 0.],\n",
       "       [0., 0., 5., ..., 0., 0., 0.]])"
      ]
     },
     "execution_count": 4,
     "metadata": {},
     "output_type": "execute_result"
    }
   ],
   "source": [
    "# Initialize userRating array with zeros\n",
    "userRating = np.zeros((np.max(ratings, 0)[0] + 1, np.max(ratings, 0)[1] + 1))\n",
    "\n",
    "for rating in ratings:\n",
    "    user_id, movie_id, value = rating\n",
    "    userRating[user_id][movie_id] = value\n",
    "\n",
    "userRating"
   ]
  },
  {
   "cell_type": "markdown",
   "metadata": {
    "colab_type": "text",
    "id": "EYwsGPSlKJVx"
   },
   "source": [
    "Find the movies that 'User ID = 6' rated. Print 10 movie IDs in ascending order from the least movie ID.  \n",
    "\n",
    "The output should be 1, 7, 8, 9, 12, 13, 14, 15, 19, 21"
   ]
  },
  {
   "cell_type": "code",
   "execution_count": 5,
   "metadata": {
    "colab": {},
    "colab_type": "code",
    "id": "Ew2EIov-KJVy"
   },
   "outputs": [
    {
     "name": "stdout",
     "output_type": "stream",
     "text": [
      "Top 10 movie IDs rated by User ID 6 in ascending order:\n",
      "[1, 7, 8, 9, 12, 13, 14, 15, 19, 21]\n"
     ]
    }
   ],
   "source": [
    "user_6_ratings = userRating[6, :]\n",
    "\n",
    "# Get the indices of non-zero ratings\n",
    "rated_movie_indices = np.nonzero(user_6_ratings)[0]\n",
    "\n",
    "# Sort the movie indices in ascending order\n",
    "sorted_movie_indices = list(np.sort(rated_movie_indices))\n",
    "\n",
    "# Print the top 10 movie IDs\n",
    "print(\"Top 10 movie IDs rated by User ID 6 in ascending order:\")\n",
    "print(sorted_movie_indices[:10])"
   ]
  },
  {
   "cell_type": "markdown",
   "metadata": {
    "colab_type": "text",
    "id": "d1-uo4J2KJV2"
   },
   "source": [
    "Using Numpy, We can calculate the similarity as known as `cosine similarity`.  \n",
    "For given two vectors of Attributes A and B -in this case, it's movies' ratings vectors.- the similarity is caculated as below fomula.\n",
    "<img src=\"./ml-100k/cosineSim.png.\">  \n",
    "  \n",
    "  \n",
    "Make a function `computeCosineSimilarity(userRating, movieX, movieY)` which returns pair of `(cosine similarity, number of common pairs)`. Cosine similarity is about movies which IDs are movieX and movieY by their own ratings. (Hint1: You can user 'sqrt' in 'math' library) (Hint2: Make sure you don't devide number by 0)"
   ]
  },
  {
   "cell_type": "code",
   "execution_count": 6,
   "metadata": {
    "colab": {},
    "colab_type": "code",
    "id": "eQnhUqVLKJV5"
   },
   "outputs": [],
   "source": [
    "from math import sqrt\n",
    "\n",
    "def computeCosineSimilarity(userRating, movieX, movieY):\n",
    "    \n",
    "    # Find each movie X and Y's rating list\n",
    "    ratings_X = userRating[:, movieX]\n",
    "    ratings_Y = userRating[:, movieY]\n",
    "\n",
    "    # Find common pairs of non-zero ratings for movies X and Y\n",
    "    common_pairs = np.logical_and(ratings_X != 0, ratings_Y != 0)\n",
    "\n",
    "    # Check if there are any common pairs\n",
    "    if not np.any(common_pairs):\n",
    "        return (0, 0)\n",
    "\n",
    "    # For every user, compute ratings mult and square, and then Sum them\n",
    "    ratings_mult_sum = np.sum(ratings_X[common_pairs] * ratings_Y[common_pairs])\n",
    "    ratings_X_square_sum = np.sum(ratings_X[common_pairs] ** 2)\n",
    "    ratings_Y_square_sum = np.sum(ratings_Y[common_pairs] ** 2)\n",
    "\n",
    "    # Calculate Cosine similarity but be careful not to divide by zero\n",
    "    denominator = sqrt(ratings_X_square_sum) * sqrt(ratings_Y_square_sum)\n",
    "    if denominator == 0:\n",
    "        return (0, 0)\n",
    "\n",
    "    score = ratings_mult_sum / denominator\n",
    "    numPairs = np.sum(common_pairs)\n",
    "    \n",
    "    return (score, numPairs)"
   ]
  },
  {
   "cell_type": "markdown",
   "metadata": {
    "colab_type": "text",
    "id": "63B_oZ6rKJV_"
   },
   "source": [
    "You can check your function by running the code block below.  \n",
    "This function should return (0.948737, 104)."
   ]
  },
  {
   "cell_type": "code",
   "execution_count": 7,
   "metadata": {
    "colab": {},
    "colab_type": "code",
    "id": "KEiZShb3KJWB",
    "scrolled": true
   },
   "outputs": [
    {
     "name": "stdout",
     "output_type": "stream",
     "text": [
      "(0.948737, 104)\n"
     ]
    }
   ],
   "source": [
    "result = computeCosineSimilarity(userRating, 1,2)\n",
    "print((round(result[0],6), result[1]))"
   ]
  },
  {
   "cell_type": "markdown",
   "metadata": {
    "colab_type": "text",
    "id": "iZ_MvR8BKJWF"
   },
   "source": [
    "__Now__, find top k similar movies with given movie ID.  \n",
    "Make a function __`similarMovie(userRating, movie, scoreThreshold,coOccurenceThreshold)`__ that returns list of similar movie IDs in descending order of similarities and number of common pairs.   \n",
    "Sorting code is already in the code block, just implement making a tuple list (similarity) which consists of __`[(movieID, similarity, numPairs)]`__"
   ]
  },
  {
   "cell_type": "code",
   "execution_count": 8,
   "metadata": {
    "colab": {},
    "colab_type": "code",
    "id": "Pb7m6IAUKJWF"
   },
   "outputs": [],
   "source": [
    "from operator import itemgetter\n",
    "def similarMovie(userRating, movie, scoreThreshold = 0.97, coOccurrenceThreshold = 50):\n",
    "    similarity = []\n",
    "    \n",
    "    # For all movie IDs except input 'movie' as ID\n",
    "    for other_movie in range(1, userRating.shape[1]):\n",
    "        if other_movie != movie:\n",
    "            # Calculate the Cosine similarity and number of pairs\n",
    "            score, numPairs = computeCosineSimilarity(userRating, movie, other_movie)\n",
    "\n",
    "            # Only if both cosine similarity and pairs are larger than Threshold,\n",
    "            # Put (movieID, similarity, numPairs) tuple in similarity list\n",
    "            if score > scoreThreshold and numPairs > coOccurrenceThreshold:\n",
    "                similarity.append((other_movie, score, numPairs))\n",
    "    \n",
    "    # Sort this list by similarity and co-occurency\n",
    "    rank_similarity = sorted(similarity, key = itemgetter(1, 2), reverse = True)\n",
    "\n",
    "    return rank_similarity"
   ]
  },
  {
   "cell_type": "markdown",
   "metadata": {
    "colab_type": "text",
    "id": "WXpBNtUPKJWL"
   },
   "source": [
    "Run the next block to check your function works appropriate or not.  \n",
    "It will show list of top similar movies with \"Toy Story (1995)\".  "
   ]
  },
  {
   "cell_type": "code",
   "execution_count": 9,
   "metadata": {
    "colab": {},
    "colab_type": "code",
    "id": "YZaZtjQ6KJWM"
   },
   "outputs": [
    {
     "name": "stdout",
     "output_type": "stream",
     "text": [
      "Top similar movies with Toy Story (1995)are:\n",
      "rank 1: Hamlet (1996)\n",
      "rank 2: Raiders of the Lost Ark (1981)\n",
      "rank 3: Cinderella (1950)\n",
      "rank 4: Winnie the Pooh and the Blustery Day (1968)\n",
      "rank 5: Cool Hand Luke (1967)\n",
      "rank 6: Great Escape, The (1963)\n",
      "rank 7: African Queen, The (1951)\n",
      "rank 8: Apollo 13 (1995)\n",
      "rank 9: 12 Angry Men (1957)\n",
      "rank 10: Wrong Trousers, The (1993)\n",
      "rank 11: Indiana Jones and the Last Crusade (1989)\n",
      "rank 12: Lion King, The (1994)\n",
      "rank 13: Glory (1989)\n",
      "rank 14: Schindler's List (1993)\n"
     ]
    }
   ],
   "source": [
    "nameDict = {}\n",
    "def loadMovieNames():\n",
    "    movieNames = {}\n",
    "    with open(\"u.item\", encoding='ascii', errors='ignore') as f:\n",
    "        for line in f:\n",
    "            fields = line.split('|')\n",
    "            movieNames[int(fields[0])] = fields[1]\n",
    "    return movieNames\n",
    "\n",
    "nameDict = loadMovieNames()\n",
    "\n",
    "rank = similarMovie(userRating, 1)\n",
    "print(\"Top similar movies with \" + nameDict[1] + \"are:\")\n",
    "count = 1\n",
    "for movieID, sim, pairs in rank:\n",
    "    print(\"rank \" + str(count) + \": \" + nameDict[movieID])\n",
    "    count += 1"
   ]
  }
 ],
 "metadata": {
  "anaconda-cloud": {},
  "colab": {
   "name": "03-Similar_Movies.ipynb",
   "provenance": []
  },
  "kernelspec": {
   "display_name": "Python 3 (ipykernel)",
   "language": "python",
   "name": "python3"
  },
  "language_info": {
   "codemirror_mode": {
    "name": "ipython",
    "version": 3
   },
   "file_extension": ".py",
   "mimetype": "text/x-python",
   "name": "python",
   "nbconvert_exporter": "python",
   "pygments_lexer": "ipython3",
   "version": "3.11.5"
  }
 },
 "nbformat": 4,
 "nbformat_minor": 1
}
